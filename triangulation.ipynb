{
 "cells": [
  {
   "cell_type": "markdown",
   "metadata": {},
   "source": [
    "## Laplacian Eigenvalues of Network Data"
   ]
  },
  {
   "cell_type": "code",
   "execution_count": 7,
   "metadata": {
    "ExecuteTime": {
     "end_time": "2018-11-04T05:11:48.135165Z",
     "start_time": "2018-11-04T05:11:48.092637Z"
    }
   },
   "outputs": [
    {
     "name": "stdout",
     "output_type": "stream",
     "text": [
      "The autoreload extension is already loaded. To reload it, use:\n",
      "  %reload_ext autoreload\n"
     ]
    }
   ],
   "source": [
    "%load_ext autoreload\n",
    "%autoreload 2\n",
    "%matplotlib inline\n",
    "\n",
    "import pickle, json, os, sys, csv, random, operator\n",
    "from collections import defaultdict, Counter, deque\n",
    "import numpy as np\n",
    "import pandas as pd\n",
    "import igraph as ig\n",
    "import networkx as nx\n",
    "import seaborn as sns\n",
    "import scipy.stats as scs\n",
    "import matplotlib.pyplot as plt\n",
    "import numpy.linalg as la\n",
    "from itertools import combinations, product\n",
    "sys.path.insert(0, '../yitong_ngm_repo/')\n",
    "import utils\n",
    "from matplotlib.ticker import MultipleLocator\n",
    "\n",
    "from matplotlib import rc\n",
    "rc('font',**{'family':'serif','serif':['Palatino']})\n",
    "rc('text', usetex=True)\n",
    "\n",
    "import triangulate"
   ]
  },
  {
   "cell_type": "code",
   "execution_count": 15,
   "metadata": {
    "ExecuteTime": {
     "end_time": "2018-11-04T06:17:00.656253Z",
     "start_time": "2018-11-04T06:17:00.602464Z"
    }
   },
   "outputs": [],
   "source": [
    "ratio = lambda l: max(l)/min(l)\n",
    "\n",
    "def add_random_edges(graph, percents):\n",
    "    graphs = []\n",
    "    for percent in percents:\n",
    "        g = graph.copy()\n",
    "        nids = g.vs.indices\n",
    "        num_edges = int(round(percent*len(g.es)))\n",
    "        edges = []\n",
    "        for idx in xrange(num_edges):\n",
    "            node1, node2 = np.random.choice(nids, size=2, replace=False)\n",
    "            edges.append((node1, node2))\n",
    "        g.add_edges(edges)\n",
    "        graphs.append(g)\n",
    "    return graphs\n",
    "\n",
    "def trim_high_degree_nodes(graph, max_degs):\n",
    "    graphs = []\n",
    "    for max_deg in max_degs:\n",
    "        g = graph.copy()\n",
    "        del_edges = []\n",
    "        for node in g.vs:\n",
    "            if node.degree() > max_deg:\n",
    "                nbors = node.neighbors(mode='ALL')\n",
    "                del_nbors = np.random.choice(nbors, size=node.degree()-max_deg, replace=False)\n",
    "                for nb in del_nbors: del_edges.append((node.index, nb.index))\n",
    "\n",
    "        g.delete_edges(del_edges)\n",
    "        graphs.append(g)\n",
    "    return graphs\n",
    "    \n",
    "\n",
    "def get_laplacian_minmax(g):\n",
    "    g = g.as_undirected()\n",
    "    L = np.array(g.laplacian())\n",
    "    eigvals = la.eigvalsh(L)\n",
    "    eigvals = np.round(eigvals, 4)\n",
    "    eigvals = eigvals[eigvals > 0]\n",
    "    return min(eigvals), max(eigvals), ratio(eigvals)"
   ]
  },
  {
   "cell_type": "code",
   "execution_count": 3,
   "metadata": {
    "ExecuteTime": {
     "end_time": "2018-11-04T05:01:09.832235Z",
     "start_time": "2018-11-04T05:01:08.320122Z"
    }
   },
   "outputs": [
    {
     "name": "stdout",
     "output_type": "stream",
     "text": [
      "hepph\n",
      "IGRAPH DN-- 30558 347228 -- \n",
      "+ attr: attributed (g), attributes (g), single_attr (g), month (v), name (v), nid (v), time (v), year (v)\n",
      "acl\n",
      "IGRAPH DN-- 18665 115311 -- \n",
      "+ attr: attributed (g), attributes (g), single_attr (g), attrs (v), id (v), name (v), nid (v), single_attr (v), time (v), venue_id (v)\n"
     ]
    }
   ],
   "source": [
    "# load data\n",
    "path = 'data/'\n",
    "paths = [os.path.join(path, f) for f in os.listdir(path) if not f.startswith('.')]\n",
    "\n",
    "networks = {}\n",
    "for gpath in paths:\n",
    "    fname = gpath.rsplit('/', 1)[-1].split('.')[0]\n",
    "    if fname not in ['acl', 'hepph']: continue\n",
    "    g = networks[fname] = ig.Graph.Read_Pickle(gpath)\n",
    "    networks[fname].vs['nid'] = g.vs.indices\n",
    "\n",
    "    print fname\n",
    "    print networks[fname].summary() "
   ]
  },
  {
   "cell_type": "markdown",
   "metadata": {},
   "source": [
    "### Dataset"
   ]
  },
  {
   "cell_type": "code",
   "execution_count": 18,
   "metadata": {
    "ExecuteTime": {
     "end_time": "2018-11-04T06:17:33.699891Z",
     "start_time": "2018-11-04T06:17:33.655292Z"
    }
   },
   "outputs": [],
   "source": [
    "# acl\n",
    "def acl_graph():    \n",
    "    g = networks['acl']\n",
    "    yk, ck = map(np.array, zip(*sorted(Counter(g.vs['time']).items())))\n",
    "    max_year = max(yk[ck.cumsum() < 3000])\n",
    "    sg = g.subgraph([n for n in g.vs if n['time'] <= max_year])\n",
    "\n",
    "    sg = sg.as_undirected()\n",
    "    print min(set(sg.vs['time'])), max(set(sg.vs['time']))\n",
    "    sg.summary()\n",
    "    return sg\n",
    "\n",
    "# HepPH\n",
    "def hepph_graph():\n",
    "    g = networks['hepph']\n",
    "    yk, ck = map(np.array, zip(*sorted(Counter(g.vs['year']).items())))\n",
    "    max_year = max(yk[ck.cumsum() < 10000])\n",
    "    sg = g.subgraph([n for n in g.vs if n['year'] <= max_year])\n",
    "\n",
    "    sg = sg.as_undirected()\n",
    "    print min(set(sg.vs['year'])), max(set(sg.vs['year']))\n",
    "    sg.summary()\n",
    "    return sg"
   ]
  },
  {
   "cell_type": "code",
   "execution_count": 19,
   "metadata": {
    "ExecuteTime": {
     "end_time": "2018-11-04T06:22:25.821906Z",
     "start_time": "2018-11-04T06:21:34.594742Z"
    }
   },
   "outputs": [
    {
     "name": "stdout",
     "output_type": "stream",
     "text": [
      "490 480 470 460 450 440 430 420 410 400 390 380 370 360 350 340 330 320 310 300 290 280 270 260 250 240 230 220 210 200 190 180 170 160 150 140 130 120 110 100 90 80 70 60 50 40 30 20 10 0\n"
     ]
    }
   ],
   "source": [
    "sg = ig.Graph.Erdos_Renyi(500, m=2500)\n",
    "sg_ch = triangulate.triangulate_ig(sg)"
   ]
  },
  {
   "cell_type": "code",
   "execution_count": 13,
   "metadata": {
    "ExecuteTime": {
     "end_time": "2018-11-04T06:01:18.914254Z",
     "start_time": "2018-11-04T06:01:18.846835Z"
    }
   },
   "outputs": [
    {
     "data": {
      "text/plain": [
       "'IGRAPH U--- 500 69166 -- '"
      ]
     },
     "execution_count": 13,
     "metadata": {},
     "output_type": "execute_result"
    }
   ],
   "source": [
    "sg_ch.simplify().summary()"
   ]
  },
  {
   "cell_type": "markdown",
   "metadata": {},
   "source": [
    "### Adding edges u.a.r."
   ]
  },
  {
   "cell_type": "code",
   "execution_count": 218,
   "metadata": {
    "ExecuteTime": {
     "end_time": "2018-11-03T17:13:01.010696Z",
     "start_time": "2018-11-03T17:12:22.136271Z"
    }
   },
   "outputs": [],
   "source": [
    "percents = np.arange(0.1, 0.91, 0.15)\n",
    "graphs = add_random_edges(sg, percents)"
   ]
  },
  {
   "cell_type": "code",
   "execution_count": 219,
   "metadata": {
    "ExecuteTime": {
     "end_time": "2018-11-03T17:26:40.008824Z",
     "start_time": "2018-11-03T17:17:14.592829Z"
    }
   },
   "outputs": [
    {
     "name": "stdout",
     "output_type": "stream",
     "text": [
      "(0.0766, 154.152, 2012.4281984334202)\n",
      "(0.2832, 152.167, 537.3128531073446)\n",
      "(0.5622, 153.1809, 272.4669156883671)\n",
      "(0.6795, 152.1969, 223.98366445916116)\n",
      "(0.6671, 156.1943, 234.13925948133712)\n",
      "(0.8769, 155.2115, 177.00022807617745)\n"
     ]
    }
   ],
   "source": [
    "eigdata = []\n",
    "for g in graphs:\n",
    "    d = get_laplacian_minmax(g)\n",
    "    eigdata.append(d)\n",
    "    print d"
   ]
  },
  {
   "cell_type": "code",
   "execution_count": 220,
   "metadata": {
    "ExecuteTime": {
     "end_time": "2018-11-03T17:26:42.130623Z",
     "start_time": "2018-11-03T17:26:40.012137Z"
    }
   },
   "outputs": [
    {
     "data": {
      "image/png": "[encoded data removed]",
      "text/plain": [
       "<matplotlib.figure.Figure at 0x10cd2be10>"
      ]
     },
     "metadata": {},
     "output_type": "display_data"
    }
   ],
   "source": [
    "fig, (ax1, ax2, ax3) = plt.subplots(1,3, figsize=(11,3))\n",
    "\n",
    "eigmin, eigmax, eigratio = zip(*eigdata)\n",
    "labels =[r'$\\lambda_{min}$', r'$\\lambda_{max}$', r'$\\lambda_{max}/\\lambda_{min}$']\n",
    "for ax, data, label in zip(fig.axes, [eigmin, eigmax, eigratio], labels):\n",
    "    ax.plot(percents, data, '-o')\n",
    "    ax.set_title(label)\n",
    "    ax.set_xlabel('Percentage (of $|E|$) of edges added')\n",
    "fig.tight_layout()"
   ]
  },
  {
   "cell_type": "markdown",
   "metadata": {},
   "source": [
    "## Trimming high degree nodes"
   ]
  },
  {
   "cell_type": "code",
   "execution_count": 221,
   "metadata": {
    "ExecuteTime": {
     "end_time": "2018-11-03T17:26:42.276390Z",
     "start_time": "2018-11-03T17:26:42.135258Z"
    }
   },
   "outputs": [],
   "source": [
    "pctiles = [int(np.percentile(sg.degree(), p)) for p in [99.999, 99.99, 99.9, 99, 98]]\n",
    "graphs = trim_high_degree_nodes(sg, pctiles)"
   ]
  },
  {
   "cell_type": "code",
   "execution_count": 222,
   "metadata": {
    "ExecuteTime": {
     "end_time": "2018-11-03T17:34:18.347173Z",
     "start_time": "2018-11-03T17:26:42.282116Z"
    }
   },
   "outputs": [
    {
     "name": "stdout",
     "output_type": "stream",
     "text": [
      "(0.0516, 148.1622, 2871.360465116279)\n",
      "(0.0516, 139.2023, 2697.718992248062)\n",
      "(0.0516, 98.5891, 1910.641472868217)\n",
      "(0.0515, 55.5906, 1079.4291262135923)\n",
      "(0.0515, 44.415, 862.4271844660194)\n"
     ]
    }
   ],
   "source": [
    "eigdata2 = []\n",
    "for g in graphs:\n",
    "    d = get_laplacian_minmax(g)\n",
    "    eigdata2.append(d)\n",
    "    print d"
   ]
  },
  {
   "cell_type": "code",
   "execution_count": 223,
   "metadata": {
    "ExecuteTime": {
     "end_time": "2018-11-03T17:34:20.818489Z",
     "start_time": "2018-11-03T17:34:18.351723Z"
    }
   },
   "outputs": [
    {
     "data": {
      "image/png": "[encoded data removed]",
      "text/plain": [
       "<matplotlib.figure.Figure at 0x10c509090>"
      ]
     },
     "metadata": {},
     "output_type": "display_data"
    }
   ],
   "source": [
    "fig, (ax1, ax2, ax3) = plt.subplots(1,3, figsize=(11,3))\n",
    "\n",
    "eigmin, eigmax, eigratio = zip(*eigdata2)\n",
    "labels =[r'$\\lambda_{min}$', r'$\\lambda_{max}$', r'$\\lambda_{max}/\\lambda_{min}$']\n",
    "for ax, data, label in zip(fig.axes, [eigmin, eigmax, eigratio], labels):\n",
    "    ax.plot(pctiles, data, '-o')\n",
    "    ax.set_title(label)\n",
    "    ax.set_xlabel('Max degree')\n",
    "fig.tight_layout()"
   ]
  },
  {
   "cell_type": "code",
   "execution_count": 244,
   "metadata": {
    "ExecuteTime": {
     "end_time": "2018-11-03T18:16:30.108082Z",
     "start_time": "2018-11-03T18:14:34.399247Z"
    }
   },
   "outputs": [
    {
     "data": {
      "text/plain": [
       "(0.3419, 56.3238, 164.73764258555133)"
      ]
     },
     "execution_count": 244,
     "metadata": {},
     "output_type": "execute_result"
    }
   ],
   "source": [
    "# both: uniform addition and thresholding\n",
    "unif_percent = 0.37\n",
    "deg_pctile = 98.9\n",
    "deg_thresh = lambda g: int(np.percentile(g.degree(), deg_pctile))\n",
    "\n",
    "graph = add_random_edges(sg, [unif_percent])[0]\n",
    "graph = trim_high_degree_nodes(graph, [deg_thresh(graph)])[0]\n",
    "eigd = get_laplacian_minmax(graph)\n",
    "eigd"
   ]
  },
  {
   "cell_type": "code",
   "execution_count": 245,
   "metadata": {
    "ExecuteTime": {
     "end_time": "2018-11-03T18:28:49.978681Z",
     "start_time": "2018-11-03T18:28:49.935212Z"
    }
   },
   "outputs": [],
   "source": [
    "with open('./final/hepph_150.txt', 'w') as f:\n",
    "    graph.write_edgelist(f)"
   ]
  },
  {
   "cell_type": "markdown",
   "metadata": {},
   "source": [
    "### Chordal completion"
   ]
  },
  {
   "cell_type": "code",
   "execution_count": 170,
   "metadata": {
    "ExecuteTime": {
     "end_time": "2018-11-03T07:27:52.473012Z",
     "start_time": "2018-11-03T07:27:52.425595Z"
    }
   },
   "outputs": [
    {
     "name": "stdout",
     "output_type": "stream",
     "text": [
      "\n"
     ]
    }
   ],
   "source": [
    "def nx_MCSM(g): \n",
    "    # Maximum Cardinality Search for Computing Minimal Triangulations of Graphs\n",
    "    def has_proper_path(u, v):\n",
    "        valid_nodes = [u,v]+[x for x in indices if w[x] < w[u]]\n",
    "        subgraph = g.subgraph(valid_nodes)\n",
    "        return nx.has_path(subgraph, u, v)\n",
    "    \n",
    "    F, alpha = set(), {}\n",
    "    indices = {nid: 0 for nid in g.nodes()}\n",
    "    w = indices.copy()\n",
    "    \n",
    "    for i in sorted(indices, reverse=True):\n",
    "        if i % 10 == 0: print i,\n",
    "        v, S = max(indices.keys(), key=lambda x: w[x]), set()\n",
    "        for u in indices:\n",
    "            if (u!=v) and (g.has_edge(u,v) or has_proper_path(u, v)): S.add(u)\n",
    "        for u in S:\n",
    "            w[u] += 1\n",
    "            if not g.has_edge(u,v):  F.add((u,v) if u<v else (v,u))\n",
    "        alpha[v] = i\n",
    "        del indices[v]\n",
    "        \n",
    "    h = g.copy()\n",
    "    h.add_edges_from(list(F))\n",
    "    return g, h, F"
   ]
  },
  {
   "cell_type": "code",
   "execution_count": 171,
   "metadata": {
    "ExecuteTime": {
     "end_time": "2018-11-03T07:44:40.095564Z",
     "start_time": "2018-11-03T07:27:53.576905Z"
    }
   },
   "outputs": [
    {
     "name": "stdout",
     "output_type": "stream",
     "text": [
      "1880 1870 1860 1850 1840 1830 1820 1810 1800 1790 1780 1770 1760 1750 1740 1730 1720 1710 1700 1690 1680 1670 1660 1650 1640 1630 1620 1610 1600 1590 1580 1570 1560 1550 1540 1530 1520 1510 1500 1490 1480 1470 1460 1450 1440 1430 1420 1410 1400 1390 1380 1370 1360 1350 1340 1330 1320 1310 1300 1290 1280 1270 1260 1250 1240 1230 1220 1210 1200 1190 1180 1170 1160 1150 1140 1130 1120 1110 1100 1090 1080 1070 1060 1050 1040 1030 1020 1010 1000 990 980 970 960 950 940 930 920 910 900 890 880 870 860 850 840 830 820 810 800 790 780 770 760 750 740 730 720 710 700 690 680 670 660 650 640 630 620 610 600 590 580 570 560 550 540 530 520 510 500 490 480 470 460 450 440 430 420 410 400 390 380 370 360 350 340 330 320 310 300 290 280 270 260 250 240 230 220 210 200 190 180 170 160 150 140 130 120 110 100 90 80 70 60 50 40 30 20 10 0\n"
     ]
    }
   ],
   "source": [
    "sg_nx = utils.ig_to_nx(sg)\n",
    "sg_nx, sg_nx_ch, F = nx_MCSM(sg_nx)"
   ]
  },
  {
   "cell_type": "code",
   "execution_count": 172,
   "metadata": {
    "ExecuteTime": {
     "end_time": "2018-11-03T16:08:52.853153Z",
     "start_time": "2018-11-03T16:08:51.437624Z"
    }
   },
   "outputs": [
    {
     "data": {
      "text/plain": [
       "(0.0637, 61.0767, 958.8178963893249)"
      ]
     },
     "execution_count": 172,
     "metadata": {},
     "output_type": "execute_result"
    }
   ],
   "source": [
    "get_laplacian_minmax(sg)"
   ]
  },
  {
   "cell_type": "code",
   "execution_count": 174,
   "metadata": {
    "ExecuteTime": {
     "end_time": "2018-11-03T16:09:18.580776Z",
     "start_time": "2018-11-03T16:09:18.522107Z"
    }
   },
   "outputs": [],
   "source": [
    "h = sg.copy()\n",
    "h.add_edges(F)"
   ]
  },
  {
   "cell_type": "code",
   "execution_count": 175,
   "metadata": {
    "ExecuteTime": {
     "end_time": "2018-11-03T16:09:38.284878Z",
     "start_time": "2018-11-03T16:09:23.095171Z"
    }
   },
   "outputs": [
    {
     "data": {
      "text/plain": [
       "True"
      ]
     },
     "execution_count": 175,
     "metadata": {},
     "output_type": "execute_result"
    }
   ],
   "source": [
    "is_chordal(h)"
   ]
  },
  {
   "cell_type": "code",
   "execution_count": 176,
   "metadata": {
    "ExecuteTime": {
     "end_time": "2018-11-03T16:09:40.788492Z",
     "start_time": "2018-11-03T16:09:39.355797Z"
    }
   },
   "outputs": [
    {
     "data": {
      "text/plain": [
       "(0.081, 472.182, 5829.407407407408)"
      ]
     },
     "execution_count": 176,
     "metadata": {},
     "output_type": "execute_result"
    }
   ],
   "source": [
    "get_laplacian_minmax(h)"
   ]
  },
  {
   "cell_type": "markdown",
   "metadata": {},
   "source": [
    "## Run Wu"
   ]
  },
  {
   "cell_type": "code",
   "execution_count": 172,
   "metadata": {
    "ExecuteTime": {
     "end_time": "2018-11-04T08:46:49.688851Z",
     "start_time": "2018-11-04T08:46:49.656581Z"
    }
   },
   "outputs": [],
   "source": [
    "import gen_er\n",
    "import wu"
   ]
  },
  {
   "cell_type": "code",
   "execution_count": 242,
   "metadata": {
    "ExecuteTime": {
     "end_time": "2018-11-04T09:28:02.973197Z",
     "start_time": "2018-11-04T09:27:31.946825Z"
    }
   },
   "outputs": [],
   "source": [
    "graph = gen_er.get_er_components_graph(50, 100, 0.5, chordal=True) \n",
    "N = len(graph.vs)\n",
    "d = np.max(graph.degree())\n",
    "w = graph.omega()\n",
    "num_cc = len(graph.components())"
   ]
  },
  {
   "cell_type": "code",
   "execution_count": 243,
   "metadata": {
    "ExecuteTime": {
     "end_time": "2018-11-04T09:43:01.056272Z",
     "start_time": "2018-11-04T09:28:53.446169Z"
    }
   },
   "outputs": [
    {
     "name": "stdout",
     "output_type": "stream",
     "text": [
      "1 2 3 4 5 6 7 8 9 10 11 12 13 14 15 16 17 18 19 20 21 22 23 24 25 26 27 28 29 30 31 32 33 34 35 36 37 38 39 40 41 42 43 44 45 46 47 48 49 50\n"
     ]
    }
   ],
   "source": [
    "runs_per = 50\n",
    "cc_estimates = defaultdict(list)\n",
    "for run_idx in xrange(runs_per):\n",
    "    print \"{}\".format(run_idx+1),\n",
    "    sgs = gen_er.get_subsampled_data(graph, every=1)\n",
    "    for p, sg in sgs.iteritems():\n",
    "        cj_map = wu.get_cj_values_from_order(sg)\n",
    "        cc_estimates[p].append(wu.smoothed_estimator(p, cj_map.values(), N, d, w))\n",
    "        # print '{:.2f}'.format(p),"
   ]
  },
  {
   "cell_type": "code",
   "execution_count": 245,
   "metadata": {
    "ExecuteTime": {
     "end_time": "2018-11-04T09:43:30.419332Z",
     "start_time": "2018-11-04T09:43:30.357730Z"
    }
   },
   "outputs": [
    {
     "data": {
      "text/html": [
       "<div>\n",
       "<style scoped>\n",
       "    .dataframe tbody tr th:only-of-type {\n",
       "        vertical-align: middle;\n",
       "    }\n",
       "\n",
       "    .dataframe tbody tr th {\n",
       "        vertical-align: top;\n",
       "    }\n",
       "\n",
       "    .dataframe thead th {\n",
       "        text-align: right;\n",
       "    }\n",
       "</style>\n",
       "<table border=\"1\" class=\"dataframe\">\n",
       "  <thead>\n",
       "    <tr style=\"text-align: right;\">\n",
       "      <th></th>\n",
       "      <th>p</th>\n",
       "      <th>data</th>\n",
       "      <th>avg</th>\n",
       "      <th>rmse</th>\n",
       "    </tr>\n",
       "  </thead>\n",
       "  <tbody>\n",
       "    <tr>\n",
       "      <th>0</th>\n",
       "      <td>0.1000</td>\n",
       "      <td>[40.779243572716425, 42.51535321336855, 41.207...</td>\n",
       "      <td>40.430316</td>\n",
       "      <td>0.195762</td>\n",
       "    </tr>\n",
       "    <tr>\n",
       "      <th>1</th>\n",
       "      <td>0.1098</td>\n",
       "      <td>[41.74378684097317, 44.08736941453143, 40.0591...</td>\n",
       "      <td>40.370256</td>\n",
       "      <td>0.197995</td>\n",
       "    </tr>\n",
       "    <tr>\n",
       "      <th>2</th>\n",
       "      <td>0.1204</td>\n",
       "      <td>[40.204379268069744, 39.679809791529685, 41.84...</td>\n",
       "      <td>39.612440</td>\n",
       "      <td>0.211545</td>\n",
       "    </tr>\n",
       "    <tr>\n",
       "      <th>3</th>\n",
       "      <td>0.1320</td>\n",
       "      <td>[40.893099056653185, 39.80737189140217, 40.601...</td>\n",
       "      <td>39.690028</td>\n",
       "      <td>0.209123</td>\n",
       "    </tr>\n",
       "    <tr>\n",
       "      <th>4</th>\n",
       "      <td>0.1446</td>\n",
       "      <td>[39.436231359263004, 37.602394462325016, 38.09...</td>\n",
       "      <td>39.749890</td>\n",
       "      <td>0.206060</td>\n",
       "    </tr>\n",
       "  </tbody>\n",
       "</table>\n",
       "</div>"
      ],
      "text/plain": [
       "        p                                               data        avg  \\\n",
       "0  0.1000  [40.779243572716425, 42.51535321336855, 41.207...  40.430316   \n",
       "1  0.1098  [41.74378684097317, 44.08736941453143, 40.0591...  40.370256   \n",
       "2  0.1204  [40.204379268069744, 39.679809791529685, 41.84...  39.612440   \n",
       "3  0.1320  [40.893099056653185, 39.80737189140217, 40.601...  39.690028   \n",
       "4  0.1446  [39.436231359263004, 37.602394462325016, 38.09...  39.749890   \n",
       "\n",
       "       rmse  \n",
       "0  0.195762  \n",
       "1  0.197995  \n",
       "2  0.211545  \n",
       "3  0.209123  \n",
       "4  0.206060  "
      ]
     },
     "execution_count": 245,
     "metadata": {},
     "output_type": "execute_result"
    }
   ],
   "source": [
    "def rmse(l):\n",
    "    l = (np.array(l)-num_cc)**2\n",
    "    l = np.sqrt(np.mean(l))\n",
    "    return l/num_cc\n",
    "\n",
    "df = pd.DataFrame()\n",
    "df['p'] = cc_estimates.keys()\n",
    "df['data'] = cc_estimates.values()\n",
    "df['avg'] = df['data'].apply(np.mean)\n",
    "df['rmse'] = df['data'].apply(rmse)\n",
    "df = df.sort_values(by='p').reset_index(drop=True)\n",
    "df.head()"
   ]
  },
  {
   "cell_type": "code",
   "execution_count": 248,
   "metadata": {
    "ExecuteTime": {
     "end_time": "2018-11-04T09:44:23.688561Z",
     "start_time": "2018-11-04T09:44:23.643642Z"
    }
   },
   "outputs": [],
   "source": [
    "dfs = df.copy()\n",
    "del dfs['data']\n",
    "dfs.to_csv('./ER/wu_er.csv', sep=' ')"
   ]
  },
  {
   "cell_type": "markdown",
   "metadata": {},
   "source": [
    "## Visualize"
   ]
  },
  {
   "cell_type": "code",
   "execution_count": 252,
   "metadata": {
    "ExecuteTime": {
     "end_time": "2018-11-04T09:45:25.108839Z",
     "start_time": "2018-11-04T09:45:25.072794Z"
    }
   },
   "outputs": [],
   "source": [
    "df_wu = pd.read_csv('ER/wu_er.csv', sep=' ')\n",
    "df_sw = pd.read_csv('ER/ER1_rmse.txt', sep=' ', header=None)\n",
    "df_sw.columns = ['p', 'a', 'rmse', 'b']"
   ]
  },
  {
   "cell_type": "code",
   "execution_count": 265,
   "metadata": {
    "ExecuteTime": {
     "end_time": "2018-11-04T09:53:00.452769Z",
     "start_time": "2018-11-04T09:53:00.422578Z"
    }
   },
   "outputs": [],
   "source": [
    "import matplotlib"
   ]
  },
  {
   "cell_type": "code",
   "execution_count": 282,
   "metadata": {
    "ExecuteTime": {
     "end_time": "2018-11-04T10:00:52.582119Z",
     "start_time": "2018-11-04T10:00:43.579034Z"
    }
   },
   "outputs": [
    {
     "data": {
      "image/png": "[encoded data removed]",
      "text/plain": [
       "<matplotlib.figure.Figure at 0x1184f6e90>"
      ]
     },
     "metadata": {},
     "output_type": "display_data"
    }
   ],
   "source": [
    "fig, ax = plt.subplots(1,1,figsize=(6,4))\n",
    "\n",
    "ax.yaxis.set_major_locator(MultipleLocator(0.1))\n",
    "ax.yaxis.set_minor_locator(MultipleLocator(0.025))\n",
    "ax.xaxis.set_major_locator(MultipleLocator(0.1))\n",
    "ax.xaxis.set_minor_locator(MultipleLocator(0.025))\n",
    "ax.tick_params(direction='in', length=6, width=2, colors='k', which='major')\n",
    "ax.tick_params(direction='in', length=4, width=1, colors='k', which='minor')  \n",
    "sns.despine(ax=ax, offset=10)\n",
    "sns.despine(ax=ax, left=True)\n",
    "ax.ticklabel_format(style='plain')\n",
    "\n",
    "ax.set_aspect(aspect='auto', adjustable='box-forced')\n",
    "\n",
    "ax.plot(df_sw['p'], df_sw['rmse'], 'o-', mew=1, mfc='w', label='Proposed Spectral Estimator')\n",
    "ax.plot(df_wu['p'], df_wu['rmse'], 'o-', mew=1, mfc='w', label='Klusowski \\& Wu')\n",
    "ax.legend()\n",
    "\n",
    "ax.set_yscale('log')\n",
    "ax.set_xscale('log')\n",
    "\n",
    "leg = ax.legend(loc='best', fontsize=12)\n",
    "for legobj in leg.legendHandles: legobj.set_linewidth(5.0); legobj.set_alpha(1)\n",
    "ax.set_ylabel(r'RMSE of $\\hat{\\texttt{cc}}$ w.r.t. $\\texttt{cc}(G)$', fontsize=13)\n",
    "ax.set_xlabel(r'Vertex Sampling Probability $p$', fontsize=14)\n",
    "ax.set_title(r'Estimating $\\texttt{cc}$ from subsampled Erdos-Renyi graphs', fontsize=16)\n",
    "\n",
    "ax.set_xticks(np.arange(0.1, 1.01, 0.1))\n",
    "ax.get_xaxis().set_major_formatter(matplotlib.ticker.ScalarFormatter())\n",
    "ax.get_xaxis().set_minor_formatter(matplotlib.ticker.NullFormatter())\n",
    "\n",
    "plt.tight_layout()\n",
    "fig.savefig('plots/er.pdf')"
   ]
  },
  {
   "cell_type": "code",
   "execution_count": null,
   "metadata": {},
   "outputs": [],
   "source": []
  }
 ],
 "metadata": {
  "kernelspec": {
   "display_name": "Python 2",
   "language": "python",
   "name": "python2"
  },
  "language_info": {
   "codemirror_mode": {
    "name": "ipython",
    "version": 2
   },
   "file_extension": ".py",
   "mimetype": "text/x-python",
   "name": "python",
   "nbconvert_exporter": "python",
   "pygments_lexer": "ipython2",
   "version": "2.7.15"
  },
  "latex_envs": {
   "LaTeX_envs_menu_present": true,
   "autoclose": false,
   "autocomplete": true,
   "bibliofile": "biblio.bib",
   "cite_by": "apalike",
   "current_citInitial": 1,
   "eqLabelWithNumbers": true,
   "eqNumInitial": 1,
   "hotkeys": {
    "equation": "Ctrl-E",
    "itemize": "Ctrl-I"
   },
   "labels_anchors": false,
   "latex_user_defs": false,
   "report_style_numbering": false,
   "user_envs_cfg": false
  },
  "toc": {
   "base_numbering": 1,
   "nav_menu": {},
   "number_sections": true,
   "sideBar": true,
   "skip_h1_title": false,
   "title_cell": "Table of Contents",
   "title_sidebar": "Contents",
   "toc_cell": false,
   "toc_position": {},
   "toc_section_display": true,
   "toc_window_display": false
  }
 },
 "nbformat": 4,
 "nbformat_minor": 2
}
